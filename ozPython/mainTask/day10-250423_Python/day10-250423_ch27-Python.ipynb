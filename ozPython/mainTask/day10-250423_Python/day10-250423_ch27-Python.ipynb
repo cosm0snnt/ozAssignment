{
 "cells": [
  {
   "cell_type": "markdown",
   "metadata": {},
   "source": [
    "두 숫자를 더하는 람다 함수를 작성하고, 이를 변수에 할당한 후 사용하세요."
   ]
  },
  {
   "cell_type": "code",
   "execution_count": 2,
   "metadata": {},
   "outputs": [
    {
     "name": "stdout",
     "output_type": "stream",
     "text": [
      "4\n"
     ]
    }
   ],
   "source": [
    "addNum = lambda x, y: x + y\n",
    "# lambda x, y -> 인자 2개\n",
    "# x + y -> 말 그대로\n",
    "\n",
    "x = int(input(\"첫 번째 숫자를 입력하세요.\"))\n",
    "y = int(input(\"두 번째 숫자를 입력하세요.\"))\n",
    "\n",
    "print(addNum(x, y))"
   ]
  }
 ],
 "metadata": {
  "kernelspec": {
   "display_name": "Python 3",
   "language": "python",
   "name": "python3"
  },
  "language_info": {
   "codemirror_mode": {
    "name": "ipython",
    "version": 3
   },
   "file_extension": ".py",
   "mimetype": "text/x-python",
   "name": "python",
   "nbconvert_exporter": "python",
   "pygments_lexer": "ipython3",
   "version": "3.13.3"
  }
 },
 "nbformat": 4,
 "nbformat_minor": 2
}
