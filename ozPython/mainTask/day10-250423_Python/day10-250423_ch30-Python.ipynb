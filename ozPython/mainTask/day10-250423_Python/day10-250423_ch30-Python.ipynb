{
 "cells": [
  {
   "cell_type": "markdown",
   "metadata": {},
   "source": [
    "팩토리얼을 계산하는 재귀 함수 factorial을 작성하세요."
   ]
  },
  {
   "cell_type": "code",
   "execution_count": null,
   "metadata": {},
   "outputs": [
    {
     "name": "stdout",
     "output_type": "stream",
     "text": [
      "입력받은 수: 9 / 팩토리얼 결과: 362880\n"
     ]
    }
   ],
   "source": [
    "# 최초 리셋\n",
    "count = 0\n",
    "\n",
    "def factorial(num):\n",
    "    # 전역 변수 사용\n",
    "    global count\n",
    "    count += 1\n",
    "\n",
    "    if num == 1:\n",
    "        return 1\n",
    "    else:\n",
    "        return(num * factorial(num-1))\n",
    "    \n",
    "num = int(input(\"숫자 입력\"))\n",
    "\n",
    "print(f\"입력받은 수: {num} / 팩토리얼 결과: \", factorial(num))"
   ]
  }
 ],
 "metadata": {
  "kernelspec": {
   "display_name": "Python 3",
   "language": "python",
   "name": "python3"
  },
  "language_info": {
   "codemirror_mode": {
    "name": "ipython",
    "version": 3
   },
   "file_extension": ".py",
   "mimetype": "text/x-python",
   "name": "python",
   "nbconvert_exporter": "python",
   "pygments_lexer": "ipython3",
   "version": "3.13.3"
  }
 },
 "nbformat": 4,
 "nbformat_minor": 2
}
