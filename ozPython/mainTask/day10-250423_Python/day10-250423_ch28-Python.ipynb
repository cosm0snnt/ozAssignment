{
 "cells": [
  {
   "cell_type": "markdown",
   "metadata": {},
   "source": [
    "사용자로부터 3개의 숫자를 입력받아, 이를 튜플로 만든 후 최소값과 최대값을 출력하는 함수 min_max를 작성하세요."
   ]
  },
  {
   "cell_type": "code",
   "execution_count": 13,
   "metadata": {},
   "outputs": [
    {
     "name": "stdout",
     "output_type": "stream",
     "text": [
      "리스트 체크: [2, 3, 4]\n",
      "최종 결과 - 최솟값: 2, 최댓값: 4\n"
     ]
    }
   ],
   "source": [
    "def min_max(*nums):\n",
    "    numTuple = tuple(*nums)\n",
    "    print(f\"최종 결과 - 최솟값: {min(numTuple)}, 최댓값: {max(numTuple)}\")\n",
    "\n",
    "tempNums = input(\"정수 3개를 입력해 주세요(콤마로 구분).\").split(\",\")\n",
    "intNums = list(map(int, tempNums))\n",
    "    # map(): 리스트의 요소를 함수에 넣고 반환된 값으로 새로운 리스트 만들기\n",
    "print(\"리스트 체크:\", intNums)\n",
    "\n",
    "min_max(intNums)"
   ]
  }
 ],
 "metadata": {
  "kernelspec": {
   "display_name": "Python 3",
   "language": "python",
   "name": "python3"
  },
  "language_info": {
   "codemirror_mode": {
    "name": "ipython",
    "version": 3
   },
   "file_extension": ".py",
   "mimetype": "text/x-python",
   "name": "python",
   "nbconvert_exporter": "python",
   "pygments_lexer": "ipython3",
   "version": "3.13.3"
  }
 },
 "nbformat": 4,
 "nbformat_minor": 2
}
