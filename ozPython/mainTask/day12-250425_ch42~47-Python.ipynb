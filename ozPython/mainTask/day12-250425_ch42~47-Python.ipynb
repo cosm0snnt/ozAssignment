{
 "cells": [
  {
   "cell_type": "markdown",
   "id": "063dfac1",
   "metadata": {},
   "source": [
    "[문제]\n",
    "\n",
    "'Person'이라는 클래스를 선언하세요. 이 클래스는 name (이름)과 age (나이) 두 개의 속성을 갖습니다.<br>\n",
    "\n",
    "그리고 'greet'라는 메소드를 갖고 있으며, 이 메소드는 \"안녕하세요, 제 이름은 [name]입니다. \n",
    "\n",
    "나이는 [age]살입니다.\"라는 메시지를 반환합니다.<br>\n",
    "이 클래스를 사용하여 '홍길동'이라는 이름과 20살의 나이를 가진 'Person' 객체를 생성하고, 'greet' 메소드를 호출하여 메시지를 출력하세요."
   ]
  },
  {
   "cell_type": "code",
   "execution_count": 5,
   "id": "9c564fc3",
   "metadata": {},
   "outputs": [
    {
     "name": "stdout",
     "output_type": "stream",
     "text": [
      "안녕하세요, 제 이름은 홍길동입니다. 나이는 20살입니다.\n"
     ]
    }
   ],
   "source": [
    "class Person:\n",
    "    def __init__(self, name, age):\n",
    "        self.name = name\n",
    "        self.age = age\n",
    "\n",
    "    def greet(self):\n",
    "        return f\"안녕하세요, 제 이름은 {self.name}입니다. 나이는 {self.age}살입니다.\"\n",
    "    \n",
    "person = Person(\"홍길동\", 20)\n",
    "print(person.greet())"
   ]
  },
  {
   "cell_type": "markdown",
   "id": "96b2a942",
   "metadata": {},
   "source": [
    "[문제]\n",
    "\n",
    "'Rectangle' 클래스를 작성하세요. \n",
    "\n",
    "이 클래스는 높이(height)와 너비(width)를 속성으로 가지며, 생성자(__init__)를 통해 이 두 속성을 초기화합니다. \n",
    "\n",
    "'area' 메소드를 추가하여 사각형의 면적을 계산하고 반환하도록 하세요. 높이가 10, 너비가 5인 사각형 객체를 생성하고,<br> \n",
    "이 객체를 사용하여 면적을 계산해 출력하세요."
   ]
  },
  {
   "cell_type": "code",
   "execution_count": 5,
   "id": "821174a4",
   "metadata": {},
   "outputs": [
    {
     "name": "stdout",
     "output_type": "stream",
     "text": [
      "50\n"
     ]
    }
   ],
   "source": [
    "class Rectangle:\n",
    "    def __init__(self, height, width):\n",
    "        self.height = height\n",
    "        self.width = width\n",
    "\n",
    "    def area(self):\n",
    "        return (self.height * self.width)\n",
    "    \n",
    "rectangle = Rectangle(10, 5)\n",
    "print(rectangle.area())"
   ]
  },
  {
   "cell_type": "markdown",
   "id": "3eeb1f3f",
   "metadata": {},
   "source": [
    "[문제]\n",
    "\n",
    "'Book' 클래스를 선언하세요. \n",
    "\n",
    "이 클래스는 title (제목)과 author (저자) 두 개의 속성을 갖습니다. \n",
    "\n",
    "__str__ 특수 메소드를 오버라이드하여, 객체를 문자열로 변환할 때 \"제목: [title], 저자: [author]\" 형식의 문자열을 반환하도록 하세요. \n",
    "\n",
    "'Book' 객체를 하나 생성하고, print 함수를 사용하여 해당 객체의 문자열 표현을 출력하세요."
   ]
  },
  {
   "cell_type": "code",
   "execution_count": 4,
   "id": "e5b383d0",
   "metadata": {},
   "outputs": [
    {
     "name": "stdout",
     "output_type": "stream",
     "text": [
      "제목: 페스트, 저자: 알베르 카뮈\n"
     ]
    }
   ],
   "source": [
    "class Book:\n",
    "    def __init__(self, title, author):\n",
    "        self.title = title\n",
    "        self.author = author\n",
    "\n",
    "    def bookTitle(self):\n",
    "        return(f\"제목: {self.title}, 저자: {self.author}\")\n",
    "    \n",
    "book = Book(\"페스트\", \"알베르 카뮈\")\n",
    "print(book.bookTitle())"
   ]
  },
  {
   "cell_type": "markdown",
   "id": "9ac82adf",
   "metadata": {},
   "source": [
    "[문제] \n",
    "\n",
    "'Employee' 클래스를 선언하세요. \n",
    "\n",
    "이 클래스는 월급인상률을 의미하는 클래스 변수로 'raise_amount'를 갖고 있으며, 기본값은 1.04입니다. 다음 급여는 기본 급여에 월급인상률을 곱한 값으로 결정합니다.\n",
    "\n",
    "또한, 각 직원의 이름(name)과 급여(salary)를 속성으로 가지며, 'apply_raise' 메소드를 통해 급여에 'raise_amount'를 적용할 수 있어야 합니다.\n",
    "\n",
    "'Employee' 클래스의 객체 두 개를 생성하고, 한 객체에만 'raise_amount'를 변경한 후, 두 객체의 급여를 증가시켜보세요.<br>\n",
    "그리고 각 객체의 새로운 급여를 출력하세요."
   ]
  },
  {
   "cell_type": "code",
   "execution_count": 5,
   "id": "488c1795",
   "metadata": {},
   "outputs": [
    {
     "name": "stdout",
     "output_type": "stream",
     "text": [
      "10500\n",
      "52000\n"
     ]
    }
   ],
   "source": [
    "class Employee:\n",
    "    raiseAmount = 1.04\n",
    "    \n",
    "    def __init__(self, name, salary):\n",
    "        self.name = name\n",
    "        self.salary = salary\n",
    "\n",
    "    def applySalary(self):\n",
    "        self.salary = int(self.salary * self.raiseAmount)\n",
    "\n",
    "# 직원 객체 2개\n",
    "employee1 = Employee(\"직원 1\", 10000)\n",
    "employee2 = Employee(\"직원 2\", 50000)\n",
    "\n",
    "# 직원 1의 raiseAmount 변경\n",
    "employee1.raiseAmount = 1.05\n",
    "employee1.applySalary()\n",
    "\n",
    "# 직원 2의 raiseAmouont는 그대로\n",
    "employee2.applySalary()\n",
    "\n",
    "print(employee1.salary)\n",
    "print(employee2.salary)"
   ]
  },
  {
   "cell_type": "markdown",
   "id": "ae42c625",
   "metadata": {},
   "source": []
  },
  {
   "cell_type": "markdown",
   "id": "6bfb2bd4",
   "metadata": {},
   "source": [
    "[문제]\n",
    "\n",
    "'Account' 클래스를 작성하세요. \n",
    "\n",
    "이 클래스는 소유자(owner)와 잔액(balance)을 속성으로 가지며, 잔액은 프라이빗 변수로 선언합니다. \n",
    "\n",
    "'deposit'와 'withdraw' 두 개의 메소드를 통해 잔액을 조작할 수 있도록 하세요. \n",
    "\n",
    "이 때, 잔액은 음수가 될 수 없도록 체크해야 합니다. 'Account' 객체를 생성하고,<br>\n",
    "입금 및 출금 작업을 시뮬레이션한 후, 최종 잔액을 출력하세요."
   ]
  },
  {
   "cell_type": "code",
   "execution_count": 5,
   "id": "3f1921c4",
   "metadata": {},
   "outputs": [
    {
     "name": "stdout",
     "output_type": "stream",
     "text": [
      "입금 성공.\n",
      "출금 성공.\n",
      "잔액: 11550원\n"
     ]
    }
   ],
   "source": [
    "class Account:\n",
    "    def __init__(self, owner, balance):\n",
    "        self.owner = owner\n",
    "        self.__balance = balance\n",
    "\n",
    "    # 입금\n",
    "    def deposit(self, amount):\n",
    "        if amount > 0:\n",
    "            self.__balance += amount\n",
    "            print(\"입금 성공.\")\n",
    "        else:\n",
    "            print(\"입금 실패.\")\n",
    "    \n",
    "    # 출금\n",
    "    def withdraw(self, amount):\n",
    "        if 0 < amount <= self.__balance:\n",
    "            self.__balance -= amount\n",
    "            print(\"출금 성공.\")\n",
    "        else:\n",
    "            print(\"출금 실패.\")\n",
    "    \n",
    "    def balance(self):\n",
    "        return self.__balance\n",
    "\n",
    "\n",
    "account = Account(\"아무개\", 10000)\n",
    "account.deposit(3140)\n",
    "account.withdraw(1590)\n",
    "\n",
    "print(f\"잔액: {account.balance()}원\")"
   ]
  },
  {
   "cell_type": "markdown",
   "id": "4dbe7782",
   "metadata": {},
   "source": [
    "[문제] \n",
    "\n",
    "'Vehicle'이라는 기본 클래스를 선언하세요. \n",
    "\n",
    "이 클래스는 make (제조사)와 model (모델명) 두 개의 속성을 갖고, 생성자(__init__)를 통해 이 두 속성을 초기화합니다. 'display_info'라는 메소드를 추가하여, \"이 차량은 [make]에서 제조한 [model]입니다.\"라는 메시지를 반환하도록 하세요.\n",
    "\n",
    "'Truck'과 'Car' 두 개의 하위 클래스를 생성하고, 각 클래스는 'Vehicle' 클래스로부터 상속받습니다. \n",
    "\n",
    "'Truck' 클래스에는 추가로 'payload' (적재량) 속성을, 'Car' 클래스에는 'seats' (좌석 수) 속성을 추가합니다. 각각의 하위 클래스에서 'display_info' 메소드는 기본 클래스의 메소드를 그대로 사용합니다.\n",
    "\n",
    "'Truck'과 'Car' 객체 각각을 생성하고, 'display_info' 메소드를 호출하여 정보를 출력하세요. \n",
    "\n",
    "또한, 각 객체의 추가 속성(적재량, 좌석 수)에 대한 정보도 출력하세요.\n",
    "\n",
    "이 문제는 클래스의 상속 개념을 이해하고, 기본 클래스의 속성과 메소드를 하위 클래스가 어떻게 활용할 수 있는지 보여줍니다. \n",
    "\n",
    "오버라이드는 필요하지 않으며, 각 하위 클래스의 고유한 속성을 추가하는 방법에 초점을 맞춥니다."
   ]
  },
  {
   "cell_type": "code",
   "execution_count": 3,
   "id": "09cdf705",
   "metadata": {},
   "outputs": [
    {
     "name": "stdout",
     "output_type": "stream",
     "text": [
      "이 차량은 KGM에서 제조한 무쏘 칸입니다.\n",
      "적재량은 700kg입니다.\n",
      "이 차량은 르노코리아자동차에서 제조한 그랑 콜레오스입니다.\n",
      "좌석 수는 5개 입니다.\n"
     ]
    }
   ],
   "source": [
    "# 오버라이딩 표기\n",
    "from typing import override\n",
    "\n",
    "# 클래스 정의 시작\n",
    "class Vehicle:\n",
    "    def __init__(self, make, model):\n",
    "        self.make = make\n",
    "        self.model = model\n",
    "\n",
    "    def displayInfo(self):\n",
    "        return(f\"이 차량은 {self.make}에서 제조한 {self.model}입니다.\")\n",
    "\n",
    "class Truck(Vehicle):\n",
    "    @override\n",
    "    def __init__(self, make, model, payload):\n",
    "        super().__init__(make, model) # super().__init__: 초기 상태의 부모 클래스를 그대로 상속받음\n",
    "        self.payload = payload\n",
    "\n",
    "    def displayTruckInfo(self):\n",
    "        return(f\"적재량은 {self.payload}kg입니다.\")\n",
    "        \n",
    "class Car(Vehicle):\n",
    "    @override\n",
    "    def __init__(self, make, model, seats):\n",
    "        super().__init__(make, model)\n",
    "        self.seats = seats\n",
    "\n",
    "    def displayCarInfo(self):\n",
    "        return(f\"좌석 수는 {self.seats}개 입니다.\")\n",
    "# 클래스 정의 종료\n",
    "\n",
    "# 객체 생성 시작\n",
    "truck = Truck(\"KGM\", \"무쏘 칸\", 700)\n",
    "print(truck.displayInfo())\n",
    "print(truck.displayTruckInfo())\n",
    "\n",
    "car = Car(\"르노코리아자동차\", \"그랑 콜레오스\", 5)\n",
    "print(car.displayInfo())\n",
    "print(car.displayCarInfo())\n",
    "# 객체 생성 종료"
   ]
  }
 ],
 "metadata": {},
 "nbformat": 4,
 "nbformat_minor": 5
}
