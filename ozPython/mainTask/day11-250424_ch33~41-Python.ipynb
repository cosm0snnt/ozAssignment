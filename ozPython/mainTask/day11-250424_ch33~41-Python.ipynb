{
 "cells": [
  {
   "cell_type": "markdown",
   "id": "818629ae",
   "metadata": {},
   "source": [
    "사용자로부터 두 개의 숫자를 입력받아 나눗셈을 수행하는 프로그램을 작성하세요. \n",
    "\n",
    "[예외처리]\n",
    "- 입력 값이 숫자가 아닐 때 발생할 수 있는 ValueError\n",
    "- 나누는 수가 0일 때 발생할 수 있는 ZeroDivisionError\n",
    "- 위 2가지 예외처리 후 사용자에게 이해하기 쉬운 메시지 작성 후 출력되도록 코드를 작성"
   ]
  },
  {
   "cell_type": "code",
   "execution_count": null,
   "id": "08398841",
   "metadata": {},
   "outputs": [
    {
     "name": "stdout",
     "output_type": "stream",
     "text": [
      "숫자를 입력하세요.\n"
     ]
    }
   ],
   "source": [
    "try:\n",
    "    num1 = int(input(\"첫 번째 숫자를 입력하세요.\"))\n",
    "    num2 = int(input(\"두 번째 숫자를 입력하세요.\"))\n",
    "    print(num1/num2)\n",
    "\n",
    "except ValueError:\n",
    "    print(\"숫자만 입력하세요.\")\n",
    "\n",
    "except ZeroDivisionError:\n",
    "    print(\"0을 입력할 수 없습니다.\")"
   ]
  },
  {
   "cell_type": "markdown",
   "id": "a3f478f8",
   "metadata": {},
   "source": [
    "파일을 읽어서 내용을 출력하는 프로그램을 작성하세요. \n",
    "\n",
    "- 파일이 존재하지 않을 때 발생하는 FileNotFoundError를 처리\n",
    "- 파일이 존재하지 않을 경우 \"파일을 찾을 수 없습니다.\"라는 메시지를 출력"
   ]
  },
  {
   "cell_type": "code",
   "execution_count": 1,
   "id": "5cbcb57d",
   "metadata": {},
   "outputs": [
    {
     "name": "stdout",
     "output_type": "stream",
     "text": [
      "파일을 찾을 수 없습니다.\n"
     ]
    }
   ],
   "source": [
    "try:\n",
    "    with open(\"file.txt\", \"r\") as file:\n",
    "        print(file.read())\n",
    "\n",
    "except FileNotFoundError:\n",
    "    print(\"파일을 찾을 수 없습니다.\")"
   ]
  },
  {
   "cell_type": "markdown",
   "id": "1abe5618",
   "metadata": {},
   "source": [
    "사용자로부터 여러 개의 숫자를 입력받아 리스트에 저장한 후, 사용자가 'done'이라고 입력할 때까지 계속 입력받으세요. \n",
    "\n",
    "- 입력 중 숫자가 아닌 값이 입력되면 ValueError를 처리\n",
    "- 숫자 외 값이 입력된 경우 어떤 값이 잘못 입력되었는지 사용자에게 알려주는 문구 출력<br>\n",
    "  (예: f\"잘못된 값: {변수}. 숫자를 입력해주세요.\")\n",
    "\n"
   ]
  },
  {
   "cell_type": "code",
   "execution_count": 4,
   "id": "0598acfa",
   "metadata": {},
   "outputs": [
    {
     "name": "stdout",
     "output_type": "stream",
     "text": [
      "잘못된 값: ㅇㅁㄹ. 숫자만 입력해 주세요.\n",
      "[23]\n",
      "[23, 90]\n",
      "[23, 90, 2]\n",
      "[23, 90, 2, 1]\n",
      "[23, 90, 2, 1, 34]\n",
      "[23, 90, 2, 1, 34, 5]\n",
      "안녕히 가십시오.\n"
     ]
    }
   ],
   "source": [
    "nums = []\n",
    "\n",
    "while True:\n",
    "    try:\n",
    "        putHere = input(\"숫자를 입력하세요. 끝내고 싶다면 'done'을 입력하세요.\")\n",
    "\n",
    "        if putHere == \"done\":\n",
    "            print(\"안녕히 가십시오.\")\n",
    "            break\n",
    "\n",
    "        else:\n",
    "            nums.append(int(putHere))\n",
    "            print(nums)\n",
    "\n",
    "    except ValueError:\n",
    "        print(f\"잘못된 값: {putHere}. 숫자만 입력해 주세요.\")"
   ]
  },
  {
   "cell_type": "markdown",
   "id": "5418d5d3",
   "metadata": {},
   "source": [
    "사용자 정의 예외 NegativeNumberError를 생성하고, 사용자로부터 숫자를 입력받아 음수일 경우 NegativeNumberError를 발생시키는 프로그램을 작성하세요. \n",
    "\n",
    "- 예외 처리 구문을 사용하여 음수 입력 시 \"양수를 입력해주세요.\"라는 메시지를 출력"
   ]
  },
  {
   "cell_type": "code",
   "execution_count": null,
   "id": "292aa145",
   "metadata": {},
   "outputs": [
    {
     "name": "stdout",
     "output_type": "stream",
     "text": [
      "NegativeNumberError: 양수를 입력해 주세요.\n"
     ]
    }
   ],
   "source": [
    "class NegativeNumberError(Exception):\n",
    "    def __init__(self):\n",
    "        self.msg = \"NegativeNumberError: 양수를 입력해 주세요.\"\n",
    "        super().__init__(self.msg)\n",
    "        \n",
    "try:\n",
    "    number = int(input(\"양수를 입력하세요.\"))\n",
    "    if number < 0:\n",
    "        raise NegativeNumberError()\n",
    "except NegativeNumberError as numError:\n",
    "    print(numError)"
   ]
  },
  {
   "cell_type": "markdown",
   "id": "29959657",
   "metadata": {},
   "source": [
    "datetime 모듈을 사용하여 현재 날짜와 시간을 출력하는 프로그램을 작성하세요. \n",
    "\n",
    "또한, 사용자로부터 태어난 년도를 입력받아 현재 나이를 계산하여 출력하세요."
   ]
  },
  {
   "cell_type": "code",
   "execution_count": 2,
   "id": "54fcb644",
   "metadata": {},
   "outputs": [
    {
     "name": "stdout",
     "output_type": "stream",
     "text": [
      "현재 날짜/시각:  2025-04-24 18:34:51.976016\n",
      "현재 나이: 2\n"
     ]
    }
   ],
   "source": [
    "from datetime import datetime\n",
    "\n",
    "now = datetime.now()\n",
    "print(\"현재 날짜/시각: \", now)\n",
    "\n",
    "birthYear = int(input(\"생년을 입력하세요.\"))\n",
    "age = now.year - birthYear\n",
    "print(f\"현재 나이: {age}\")"
   ]
  },
  {
   "cell_type": "markdown",
   "id": "55efc224",
   "metadata": {},
   "source": [
    "requests 모듈을 사용하여, 웹 페이지의 HTML을 가져오는 간단한 웹 스크레이퍼를 작성하세요.\n",
    "\n",
    "'https://kream.co.kr/'<br>에서 데이터를 가져와서 상태 코드와 HTML의 첫 100자를 출력하세요.<br>\n",
    "(실습 전 requests 모듈을 설치해야 함)"
   ]
  },
  {
   "cell_type": "code",
   "execution_count": 3,
   "id": "785bdce4",
   "metadata": {},
   "outputs": [
    {
     "name": "stdout",
     "output_type": "stream",
     "text": [
      "상태 코드:  500\n",
      "HTML(첫 100글자):  <!DOCTYPE html>\n",
      "<html lang=\"ko\">\n",
      "<head>\n",
      "<meta name=\"robots\" content=\"noindex, nofollow\" />\n",
      "<meta htt\n"
     ]
    }
   ],
   "source": [
    "import requests\n",
    "\n",
    "response = requests.get(\"https://kream.co.kr/\")\n",
    "print(\"상태 코드: \", response.status_code)\n",
    "print(\"HTML(첫 100글자): \", response.text[:100])"
   ]
  },
  {
   "cell_type": "markdown",
   "id": "cc6331c1",
   "metadata": {},
   "source": [
    "함수 실행 시간을 측정하는 데코레이터 timer_decorator를 작성하세요. \n",
    "\n",
    "임의의 함수가 실행되는 시간을 측정하여 \"함수 실행 시간: x.xx초\" 형태로 출력하세요."
   ]
  },
  {
   "cell_type": "code",
   "execution_count": 5,
   "id": "97dfbf6c",
   "metadata": {},
   "outputs": [
    {
     "name": "stdout",
     "output_type": "stream",
     "text": [
      "함수 실행 시간: 23.14293146133423초\n"
     ]
    },
    {
     "data": {
      "text/plain": [
       "49348021735590480"
      ]
     },
     "execution_count": 5,
     "metadata": {},
     "output_type": "execute_result"
    }
   ],
   "source": [
    "import time\n",
    "\n",
    "def timerDecorator(func):\n",
    "    def wrap(*args, **kwargs):\n",
    "        startTime = time.time() # 시작 시각 기록\n",
    "        result = func(*args, **kwargs) # 함수 실행\n",
    "        endTime = time.time() # 종료 시각 기록 / time.time()을 2번 쓰고 빼면 시간의 흐름을 알 수 있다\n",
    "        print(f\"함수 실행 시간: {endTime - startTime}초\")\n",
    "        return result # 함수 반환\n",
    "    return wrap\n",
    "\n",
    "@timerDecorator\n",
    "def eg():\n",
    "    sum = 0\n",
    "    for i in range(314159265):\n",
    "        sum += i\n",
    "    return sum\n",
    "\n",
    "eg()"
   ]
  },
  {
   "cell_type": "markdown",
   "id": "6eebe9c1",
   "metadata": {},
   "source": [
    "여러분이 자주 사용하는 수학적 연산<br>\n",
    "(예: 삼각형 넓이, 원의 넓이, 직육면체의 넓이)을 수행하는 함수들을 포함하는 mymath.py라는 이름의 모듈을 만드세요. \n",
    "\n",
    "이 모듈을 사용하여 작성된 함수들을 실제로 임포트하고 사용하는 간단한 프로그램을 작성하세요."
   ]
  },
  {
   "cell_type": "code",
   "execution_count": 2,
   "id": "9d5afa17",
   "metadata": {},
   "outputs": [],
   "source": [
    "# pip install myMath?\n",
    "\n",
    "# 삼각형의 넓이 = 1/2bh\n",
    "def triangle(width, height):\n",
    "    return (width * height) / 2\n",
    "\n",
    "# 원의 넓이 = πr²\n",
    "def circle(radius, pi):\n",
    "    pi = 3.14\n",
    "    return pi * (radius ** 2)\n",
    "\n",
    "# 직육면체의 (겉)넓이 = 2(ab+bc+ca)\n",
    "def cuboid(width, height, length):\n",
    "    return 2 * ((width * height) + (width * length) + (height * length))"
   ]
  },
  {
   "cell_type": "code",
   "execution_count": 1,
   "id": "2a23dd45",
   "metadata": {},
   "outputs": [
    {
     "ename": "ImportError",
     "evalue": "cannot import name 'myMath' from 'myMath' (C:\\Users\\hmgoo\\AppData\\Roaming\\Python\\Python313\\site-packages\\myMath.py)",
     "output_type": "error",
     "traceback": [
      "\u001b[31m---------------------------------------------------------------------------\u001b[39m",
      "\u001b[31mImportError\u001b[39m                               Traceback (most recent call last)",
      "\u001b[36mCell\u001b[39m\u001b[36m \u001b[39m\u001b[32mIn[1]\u001b[39m\u001b[32m, line 1\u001b[39m\n\u001b[32m----> \u001b[39m\u001b[32m1\u001b[39m \u001b[38;5;28;01mfrom\u001b[39;00m\u001b[38;5;250m \u001b[39m\u001b[34;01mmyMath\u001b[39;00m\u001b[38;5;250m \u001b[39m\u001b[38;5;28;01mimport\u001b[39;00m myMath\n\u001b[32m      3\u001b[39m triangle(\u001b[32m3\u001b[39m, \u001b[32m14\u001b[39m)\n\u001b[32m      4\u001b[39m \u001b[38;5;28mprint\u001b[39m(\u001b[33m\"\u001b[39m\u001b[33m삼각형의 넓이: \u001b[39m\u001b[33m\"\u001b[39m, triangle(width, height))\n",
      "\u001b[31mImportError\u001b[39m: cannot import name 'myMath' from 'myMath' (C:\\Users\\hmgoo\\AppData\\Roaming\\Python\\Python313\\site-packages\\myMath.py)"
     ]
    }
   ],
   "source": [
    "from myMath import myMath\n",
    "\n",
    "triangle(3, 14)\n",
    "print(\"삼각형의 넓이: \", triangle(width, height))\n",
    "\n",
    "circle(15)\n",
    "print(\"원의 넓이: \", circle(radius))\n",
    "\n",
    "cuboid(9, 2, 6)\n",
    "print(\"직육면체의 넓이: \", cuboid(width, height, length))"
   ]
  },
  {
   "cell_type": "markdown",
   "id": "00c371a8",
   "metadata": {},
   "source": [
    "animals라는 패키지를 만들고, 이 패키지 내에 mammals, birds라는 두 개의 서브 모듈을 생성하세요. \n",
    "\n",
    "- 각 모듈에는 최소한 한 개 이상의 동물에 관한 클래스를 정의하세요<br>\n",
    "  (예: mammals에는 Dog, birds에는 Eagle)\n",
    "- 이 패키지와 모듈을 사용하여 동물들의 정보를 출력하는 프로그램을 작성\n",
    "\n",
    "폴더 및 파일 구조\n",
    "```\n",
    "animals/(폴더)\n",
    "├── __init__.py\n",
    "├── mammals.py\n",
    "└── birds.py\n",
    "```\n"
   ]
  },
  {
   "cell_type": "code",
   "execution_count": null,
   "id": "df5132af",
   "metadata": {},
   "outputs": [],
   "source": [
    "# mammals.py\n",
    "\n",
    "def speak(self):\n",
    "    return \"멍멍!\"\n",
    "\n",
    "def __str__ (self):\n",
    "    return \"Dog\""
   ]
  },
  {
   "cell_type": "code",
   "execution_count": 2,
   "id": "4d9a8949",
   "metadata": {},
   "outputs": [],
   "source": [
    "# birds.py\n",
    "\n",
    "def speak(self):\n",
    "    return \"짹짹!\"\n",
    "\n",
    "def __str__ (self):\n",
    "    return \"Eagle\""
   ]
  },
  {
   "cell_type": "code",
   "execution_count": null,
   "id": "42355989",
   "metadata": {},
   "outputs": [
    {
     "ename": "ModuleNotFoundError",
     "evalue": "No module named 'animals'",
     "output_type": "error",
     "traceback": [
      "\u001b[31m---------------------------------------------------------------------------\u001b[39m",
      "\u001b[31mModuleNotFoundError\u001b[39m                       Traceback (most recent call last)",
      "\u001b[36mCell\u001b[39m\u001b[36m \u001b[39m\u001b[32mIn[1]\u001b[39m\u001b[32m, line 1\u001b[39m\n\u001b[32m----> \u001b[39m\u001b[32m1\u001b[39m \u001b[38;5;28;01mfrom\u001b[39;00m\u001b[38;5;250m \u001b[39m\u001b[34;01manimals\u001b[39;00m\u001b[34;01m.\u001b[39;00m\u001b[34;01mmammals\u001b[39;00m\u001b[38;5;250m \u001b[39m\u001b[38;5;28;01mimport\u001b[39;00m Dog\n\u001b[32m      2\u001b[39m \u001b[38;5;28;01mfrom\u001b[39;00m\u001b[38;5;250m \u001b[39m\u001b[34;01manimals\u001b[39;00m\u001b[34;01m.\u001b[39;00m\u001b[34;01mbirds\u001b[39;00m\u001b[38;5;250m \u001b[39m\u001b[38;5;28;01mimport\u001b[39;00m Eagle\n\u001b[32m      4\u001b[39m Dog.speak()\n",
      "\u001b[31mModuleNotFoundError\u001b[39m: No module named 'animals'"
     ]
    }
   ],
   "source": [
    "from animals.mammals import Dog\n",
    "from animals.birds import Eagle\n",
    "\n",
    "dog = Dog()\n",
    "eagle = Eagle()\n",
    "\n",
    "print(dog)\n",
    "print(eagle)"
   ]
  }
 ],
 "metadata": {},
 "nbformat": 4,
 "nbformat_minor": 5
}
