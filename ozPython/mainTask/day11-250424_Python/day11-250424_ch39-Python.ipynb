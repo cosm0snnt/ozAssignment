{
 "cells": [
  {
   "cell_type": "markdown",
   "metadata": {},
   "source": [
    "함수 실행 시간을 측정하는 데코레이터 timer_decorator를 작성하세요. \n",
    "\n",
    "임의의 함수가 실행되는 시간을 측정하여 \"함수 실행 시간: x.xx초\" 형태로 출력하세요."
   ]
  },
  {
   "cell_type": "code",
   "execution_count": 5,
   "metadata": {},
   "outputs": [
    {
     "name": "stdout",
     "output_type": "stream",
     "text": [
      "함수 실행 시간: 23.14293146133423초\n"
     ]
    },
    {
     "data": {
      "text/plain": [
       "49348021735590480"
      ]
     },
     "execution_count": 5,
     "metadata": {},
     "output_type": "execute_result"
    }
   ],
   "source": [
    "import time\n",
    "\n",
    "def timerDecorator(func):\n",
    "    def wrap(*args, **kwargs):\n",
    "        startTime = time.time() # 시작 시각 기록\n",
    "        result = func(*args, **kwargs) # 함수 실행\n",
    "        endTime = time.time() # 종료 시각 기록 / time.time()을 2번 쓰고 빼면 시간의 흐름을 알 수 있다\n",
    "        print(f\"함수 실행 시간: {endTime - startTime}초\")\n",
    "        return result # 함수 반환\n",
    "    return wrap\n",
    "\n",
    "@timerDecorator\n",
    "def eg():\n",
    "    sum = 0\n",
    "    for i in range(314159265):\n",
    "        sum += i\n",
    "    return sum\n",
    "\n",
    "eg()"
   ]
  }
 ],
 "metadata": {
  "kernelspec": {
   "display_name": "Python 3",
   "language": "python",
   "name": "python3"
  },
  "language_info": {
   "codemirror_mode": {
    "name": "ipython",
    "version": 3
   },
   "file_extension": ".py",
   "mimetype": "text/x-python",
   "name": "python",
   "nbconvert_exporter": "python",
   "pygments_lexer": "ipython3",
   "version": "3.13.3"
  }
 },
 "nbformat": 4,
 "nbformat_minor": 2
}
