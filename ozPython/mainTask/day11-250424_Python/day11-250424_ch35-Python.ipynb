{
 "cells": [
  {
   "cell_type": "markdown",
   "metadata": {},
   "source": [
    "사용자로부터 여러 개의 숫자를 입력받아 리스트에 저장한 후, 사용자가 'done'이라고 입력할 때까지 계속 입력받으세요. \n",
    "\n",
    "- 입력 중 숫자가 아닌 값이 입력되면 ValueError를 처리\n",
    "- 숫자 외 값이 입력된 경우 어떤 값이 잘못 입력되었는지 사용자에게 알려주는 문구 출력<br>\n",
    "  (예: f\"잘못된 값: {변수}. 숫자를 입력해주세요.\")\n",
    "\n"
   ]
  },
  {
   "cell_type": "code",
   "execution_count": 4,
   "metadata": {},
   "outputs": [
    {
     "name": "stdout",
     "output_type": "stream",
     "text": [
      "잘못된 값: ㅇㅁㄹ. 숫자만 입력해 주세요.\n",
      "[23]\n",
      "[23, 90]\n",
      "[23, 90, 2]\n",
      "[23, 90, 2, 1]\n",
      "[23, 90, 2, 1, 34]\n",
      "[23, 90, 2, 1, 34, 5]\n",
      "안녕히 가십시오.\n"
     ]
    }
   ],
   "source": [
    "nums = []\n",
    "\n",
    "while True:\n",
    "    try:\n",
    "        putHere = input(\"숫자를 입력하세요. 끝내고 싶다면 'done'을 입력하세요.\")\n",
    "\n",
    "        if putHere == \"done\":\n",
    "            print(\"안녕히 가십시오.\")\n",
    "            break\n",
    "\n",
    "        else:\n",
    "            nums.append(int(putHere))\n",
    "            print(nums)\n",
    "\n",
    "    except ValueError:\n",
    "        print(f\"잘못된 값: {putHere}. 숫자만 입력해 주세요.\")"
   ]
  }
 ],
 "metadata": {
  "kernelspec": {
   "display_name": "Python 3",
   "language": "python",
   "name": "python3"
  },
  "language_info": {
   "codemirror_mode": {
    "name": "ipython",
    "version": 3
   },
   "file_extension": ".py",
   "mimetype": "text/x-python",
   "name": "python",
   "nbconvert_exporter": "python",
   "pygments_lexer": "ipython3",
   "version": "3.13.3"
  }
 },
 "nbformat": 4,
 "nbformat_minor": 2
}
