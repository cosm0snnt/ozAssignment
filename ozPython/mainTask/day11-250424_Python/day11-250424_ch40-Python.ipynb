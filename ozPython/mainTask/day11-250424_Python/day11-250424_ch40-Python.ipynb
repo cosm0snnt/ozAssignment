{
 "cells": [
  {
   "cell_type": "markdown",
   "metadata": {},
   "source": [
    "여러분이 자주 사용하는 수학적 연산<br>\n",
    "(예: 삼각형 넓이, 원의 넓이, 직육면체의 넓이)을 수행하는 함수들을 포함하는 mymath.py라는 이름의 모듈을 만드세요. \n",
    "\n",
    "이 모듈을 사용하여 작성된 함수들을 실제로 임포트하고 사용하는 간단한 프로그램을 작성하세요."
   ]
  },
  {
   "cell_type": "code",
   "execution_count": 2,
   "metadata": {},
   "outputs": [],
   "source": [
    "# pip install myMath?\n",
    "\n",
    "# 삼각형의 넓이 = 1/2bh\n",
    "def triangle(width, height):\n",
    "    return (width * height) / 2\n",
    "\n",
    "# 원의 넓이 = πr²\n",
    "def circle(radius, pi):\n",
    "    pi = 3.14\n",
    "    return pi * (radius ** 2)\n",
    "\n",
    "# 직육면체의 (겉)넓이 = 2(ab+bc+ca)\n",
    "def cuboid(width, height, length):\n",
    "    return 2 * ((width * height) + (width * length) + (height * length))"
   ]
  },
  {
   "cell_type": "code",
   "execution_count": 1,
   "metadata": {},
   "outputs": [
    {
     "ename": "ImportError",
     "evalue": "cannot import name 'myMath' from 'myMath' (C:\\Users\\hmgoo\\AppData\\Roaming\\Python\\Python313\\site-packages\\myMath.py)",
     "output_type": "error",
     "traceback": [
      "\u001b[31m---------------------------------------------------------------------------\u001b[39m",
      "\u001b[31mImportError\u001b[39m                               Traceback (most recent call last)",
      "\u001b[36mCell\u001b[39m\u001b[36m \u001b[39m\u001b[32mIn[1]\u001b[39m\u001b[32m, line 1\u001b[39m\n\u001b[32m----> \u001b[39m\u001b[32m1\u001b[39m \u001b[38;5;28;01mfrom\u001b[39;00m\u001b[38;5;250m \u001b[39m\u001b[34;01mmyMath\u001b[39;00m\u001b[38;5;250m \u001b[39m\u001b[38;5;28;01mimport\u001b[39;00m myMath\n\u001b[32m      3\u001b[39m triangle(\u001b[32m3\u001b[39m, \u001b[32m14\u001b[39m)\n\u001b[32m      4\u001b[39m \u001b[38;5;28mprint\u001b[39m(\u001b[33m\"\u001b[39m\u001b[33m삼각형의 넓이: \u001b[39m\u001b[33m\"\u001b[39m, triangle(width, height))\n",
      "\u001b[31mImportError\u001b[39m: cannot import name 'myMath' from 'myMath' (C:\\Users\\hmgoo\\AppData\\Roaming\\Python\\Python313\\site-packages\\myMath.py)"
     ]
    }
   ],
   "source": [
    "from myMath import myMath\n",
    "\n",
    "triangle(3, 14)\n",
    "print(\"삼각형의 넓이: \", triangle(width, height))\n",
    "\n",
    "circle(15)\n",
    "print(\"원의 넓이: \", circle(radius))\n",
    "\n",
    "cuboid(9, 2, 6)\n",
    "print(\"직육면체의 넓이: \", cuboid(width, height, length))"
   ]
  }
 ],
 "metadata": {
  "kernelspec": {
   "display_name": "Python 3",
   "language": "python",
   "name": "python3"
  },
  "language_info": {
   "codemirror_mode": {
    "name": "ipython",
    "version": 3
   },
   "file_extension": ".py",
   "mimetype": "text/x-python",
   "name": "python",
   "nbconvert_exporter": "python",
   "pygments_lexer": "ipython3",
   "version": "3.13.3"
  }
 },
 "nbformat": 4,
 "nbformat_minor": 2
}
