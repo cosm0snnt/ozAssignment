{
 "cells": [
  {
   "cell_type": "markdown",
   "id": "5c4d23d9",
   "metadata": {},
   "source": [
    "사용자로부터 이름과 나이를 입력 받아, \"안녕하세요, [이름]님! 당신은 [나이]살입니다.\"라고 출력하는 함수 greet_user를 작성하세요."
   ]
  },
  {
   "cell_type": "code",
   "execution_count": 8,
   "id": "dc18c2da",
   "metadata": {},
   "outputs": [
    {
     "name": "stdout",
     "output_type": "stream",
     "text": [
      "안녕하세요, 김혜진님! 당신은 23살입니다.\n"
     ]
    }
   ],
   "source": [
    "def greet_user(name, age):\n",
    "    print(f\"안녕하세요, {name}님! 당신은 {age}살입니다.\")\n",
    "\n",
    "# def greet_user() 안에 넣으면 안 됨\n",
    "name = str(input(\"이름을 작성해 주세요: \"))\n",
    "age = int(input(\"나이를 작성해 주세요(숫자만)\"))\n",
    "\n",
    "greet_user(name, age)"
   ]
  },
  {
   "cell_type": "markdown",
   "id": "a8811205",
   "metadata": {},
   "source": [
    "여러 숫자를 입력받아 그 합계를 반환하는 함수 sum_numbers를 작성하세요. 이 때, 가변 매개변수를 사용하세요."
   ]
  },
  {
   "cell_type": "code",
   "execution_count": 13,
   "id": "dc235c46",
   "metadata": {},
   "outputs": [
    {
     "name": "stdout",
     "output_type": "stream",
     "text": [
      "6\n"
     ]
    }
   ],
   "source": [
    "def sum_numbers(*numbers):\n",
    "    return(sum(numbers))\n",
    "\n",
    "print(sum_numbers(1, 2, 3))\n",
    "\n",
    "# input으로 처리하려던 흔적\n",
    "# inputList = input(\"숫자를 입력하세요(콤마로 구분)\").split(\",\")\n",
    "# intList = inputList(map(int, inputList))\n",
    "\n",
    "# print(intList)\n",
    "# sum_numbers(*intList)"
   ]
  },
  {
   "cell_type": "markdown",
   "id": "4e93c4f5",
   "metadata": {},
   "source": [
    "사용자의 이름을 출력하는 함수 print_name을 작성하세요. 만약 이름이 주어지지 않았다면, 기본값으로 \"익명\"을 사용하세요."
   ]
  },
  {
   "cell_type": "code",
   "execution_count": 13,
   "id": "ad50474f",
   "metadata": {},
   "outputs": [
    {
     "name": "stdout",
     "output_type": "stream",
     "text": [
      "익명\n"
     ]
    }
   ],
   "source": [
    "# def print_name(name = None):\n",
    "#     name = input(\"이름을 입력하세요(기본값: 익명).\")\n",
    "#     if name == None:\n",
    "#         print(\"익명\")\n",
    "#     else:\n",
    "#         print(name)\n",
    "\n",
    "# None = 기본 값이 없을 때\n",
    "# \"\"(빈 문자열): 사용자가 아무것도 입력하지 않았을 때\n",
    "\n",
    "\n",
    "def print_name(name = \"\"):\n",
    "    name = input(\"이름을 입력하세요(기본값: 익명).\")\n",
    "    if name == \"\":\n",
    "        print(\"익명\")\n",
    "    else:\n",
    "        print(name)\n",
    "\n",
    "print_name()"
   ]
  },
  {
   "cell_type": "markdown",
   "id": "faed4f9d",
   "metadata": {},
   "source": [
    "사용자의 이름, 나이, 성별을 출력하는 함수 print_info를 작성하세요. 이때, 모든 매개변수는 키워드 매개변수로만 받도록 하세요."
   ]
  },
  {
   "cell_type": "code",
   "execution_count": 10,
   "id": "02613257",
   "metadata": {},
   "outputs": [
    {
     "name": "stdout",
     "output_type": "stream",
     "text": [
      "당신의 이름은 테스트, 나이는 32세, 성별은 여입니다.\n"
     ]
    }
   ],
   "source": [
    "def print_info(name, age, gender):\n",
    "    print(f\"당신의 이름은 {name}, 나이는 {age}세, 성별은 {gender}입니다.\")\n",
    "\n",
    "name = str(input(\"이름을 입력하세요.\"))\n",
    "age = int(input(\"나이를 입력하세요(숫자만).\"))\n",
    "gender = str(input(\"성별을 입력하세요.\"))\n",
    "\n",
    "print_info(name, age, gender)"
   ]
  },
  {
   "cell_type": "markdown",
   "id": "36d9f553",
   "metadata": {},
   "source": [
    "두 개의 정수를 받아 합을 반환하는 함수 add를 작성하세요. 매개변수와 반환값에 타입 어노테이션을 추가하세요."
   ]
  },
  {
   "cell_type": "code",
   "execution_count": 5,
   "id": "3edea85f",
   "metadata": {},
   "outputs": [
    {
     "name": "stdout",
     "output_type": "stream",
     "text": [
      "9\n"
     ]
    }
   ],
   "source": [
    "def add(num1: int, num2: int):\n",
    "    print(num1 + num2)\n",
    "\n",
    "num1 = int(input(\"첫 번째 정수를 입력해 주세요.\"))\n",
    "num2 = int(input(\"두 번째 정수를 입력해 주세요.\"))\n",
    "\n",
    "add(num1: int, num2: int)"
   ]
  },
  {
   "cell_type": "markdown",
   "id": "dd4aa320",
   "metadata": {},
   "source": [
    "0부터 시작하여 n까지의 숫자 중에서 홀수만 생성하는 제너레이터 odd_numbers를 작성하세요."
   ]
  },
  {
   "cell_type": "code",
   "execution_count": 8,
   "id": "14dd16ff",
   "metadata": {},
   "outputs": [
    {
     "name": "stdout",
     "output_type": "stream",
     "text": [
      "1\n",
      "3\n",
      "5\n",
      "7\n",
      "9\n",
      "11\n",
      "13\n",
      "15\n",
      "17\n",
      "19\n",
      "21\n",
      "23\n",
      "25\n",
      "27\n",
      "29\n"
     ]
    }
   ],
   "source": [
    "def odd_numbers(n):\n",
    "    for i in range(n):\n",
    "        if i % 2 != 0: # 만약 i를 2로 나눈 값이 0이 아니라면\n",
    "            yield i\n",
    "\n",
    "for num in odd_numbers(30):\n",
    "    print(num)"
   ]
  },
  {
   "cell_type": "markdown",
   "id": "fc065756",
   "metadata": {},
   "source": [
    "두 숫자를 더하는 람다 함수를 작성하고, 이를 변수에 할당한 후 사용하세요."
   ]
  },
  {
   "cell_type": "code",
   "execution_count": 2,
   "id": "e5718428",
   "metadata": {},
   "outputs": [
    {
     "name": "stdout",
     "output_type": "stream",
     "text": [
      "4\n"
     ]
    }
   ],
   "source": [
    "addNum = lambda x, y: x + y\n",
    "# lambda x, y -> 인자 2개\n",
    "# x + y -> 말 그대로\n",
    "\n",
    "x = int(input(\"첫 번째 숫자를 입력하세요.\"))\n",
    "y = int(input(\"두 번째 숫자를 입력하세요.\"))\n",
    "\n",
    "print(addNum(x, y))"
   ]
  },
  {
   "cell_type": "markdown",
   "id": "3d8a6931",
   "metadata": {},
   "source": [
    "사용자로부터 3개의 숫자를 입력받아, 이를 튜플로 만든 후 최소값과 최대값을 출력하는 함수 min_max를 작성하세요."
   ]
  },
  {
   "cell_type": "code",
   "execution_count": 13,
   "id": "8e456e90",
   "metadata": {},
   "outputs": [
    {
     "name": "stdout",
     "output_type": "stream",
     "text": [
      "리스트 체크: [2, 3, 4]\n",
      "최종 결과 - 최솟값: 2, 최댓값: 4\n"
     ]
    }
   ],
   "source": [
    "def min_max(*nums):\n",
    "    numTuple = tuple(*nums)\n",
    "    print(f\"최종 결과 - 최솟값: {min(numTuple)}, 최댓값: {max(numTuple)}\")\n",
    "\n",
    "tempNums = input(\"정수 3개를 입력해 주세요(콤마로 구분).\").split(\",\")\n",
    "intNums = list(map(int, tempNums))\n",
    "    # map(): 리스트의 요소를 함수에 넣고 반환된 값으로 새로운 리스트 만들기\n",
    "print(\"리스트 체크:\", intNums)\n",
    "\n",
    "min_max(intNums)"
   ]
  },
  {
   "cell_type": "markdown",
   "id": "18ccca0c",
   "metadata": {},
   "source": [
    "주어진 숫자가 짝수인지 확인하는 함수 is_even을 작성하세요. 짝수라면 True를, 아니라면 False를 반환하세요. 함수 내에서 조기 리턴을 활용하세요."
   ]
  },
  {
   "cell_type": "code",
   "execution_count": 9,
   "id": "9eb1106b",
   "metadata": {},
   "outputs": [
    {
     "name": "stdout",
     "output_type": "stream",
     "text": [
      "입력된 숫자: 4는? True\n"
     ]
    }
   ],
   "source": [
    "def is_even(num):\n",
    "    return print(f\"입력된 숫자: {num}는?\", num % 2 == 0)\n",
    "\n",
    "num = int(input(\"숫자를 입력하세요.\"))\n",
    "is_even(num)"
   ]
  },
  {
   "cell_type": "markdown",
   "id": "e84b1e87",
   "metadata": {},
   "source": [
    "팩토리얼을 계산하는 재귀 함수 factorial을 작성하세요."
   ]
  },
  {
   "cell_type": "code",
   "execution_count": null,
   "id": "78ac37fa",
   "metadata": {},
   "outputs": [
    {
     "name": "stdout",
     "output_type": "stream",
     "text": [
      "입력받은 수: 9 / 팩토리얼 결과: 362880\n"
     ]
    }
   ],
   "source": [
    "# 최초 리셋\n",
    "count = 0\n",
    "\n",
    "def factorial(num):\n",
    "    # 전역 변수 사용\n",
    "    global count\n",
    "    count += 1\n",
    "\n",
    "    if num == 1:\n",
    "        return 1\n",
    "    else:\n",
    "        return(num * factorial(num-1))\n",
    "    \n",
    "num = int(input(\"숫자 입력\"))\n",
    "\n",
    "print(f\"입력받은 수: {num} / 팩토리얼 결과: \", factorial(num))"
   ]
  },
  {
   "cell_type": "markdown",
   "id": "c3fec8d1",
   "metadata": {},
   "source": [
    "문자열 리스트를 받아, 각 문자열의 길이를 출력하는 함수 print_lengths를 작성하세요."
   ]
  },
  {
   "cell_type": "code",
   "execution_count": 3,
   "id": "0df6dd99",
   "metadata": {},
   "outputs": [
    {
     "name": "stdout",
     "output_type": "stream",
     "text": [
      "입력받은 단어(리스트화): ['휴지', '핸드폰', '커피', '빨대']\n",
      "2\n",
      "3\n",
      "2\n",
      "2\n"
     ]
    }
   ],
   "source": [
    "def print_lengths(strings):\n",
    "    for strings in strings:\n",
    "        print(len(strings))\n",
    "\n",
    "userStr = str(input(\"단어를 입력하세요(띄어쓰기로 구분).\")).split()\n",
    "print(f\"입력받은 단어(리스트화):\", userStr)\n",
    "print_lengths(userStr)"
   ]
  },
  {
   "cell_type": "markdown",
   "id": "a2fd1dbe",
   "metadata": {},
   "source": [
    "두 문자열을 받아서 긴 문자열을 반환하는 함수 longer_string을 작성하세요. 만약 두 문자열의 길이가 같다면, 첫 번째 문자열을 반환하세요."
   ]
  },
  {
   "cell_type": "code",
   "execution_count": null,
   "id": "8cc4ca07",
   "metadata": {},
   "outputs": [
    {
     "data": {
      "text/plain": [
       "'테스트'"
      ]
     },
     "execution_count": 1,
     "metadata": {},
     "output_type": "execute_result"
    }
   ],
   "source": [
    "def longer_string(str1, str2):\n",
    "    if len(str1) >= len(str2):\n",
    "        return(str1)\n",
    "    else:\n",
    "        return(str2)\n",
    "    \n",
    "str1 = str(input(\"첫 번째 문자열을 입력하세요.\"))\n",
    "str2 = str(input(\"두 번째 문자열을 입력하세요.\"))\n",
    "\n",
    "longer_string(str1, str2)"
   ]
  }
 ],
 "metadata": {},
 "nbformat": 4,
 "nbformat_minor": 5
}
