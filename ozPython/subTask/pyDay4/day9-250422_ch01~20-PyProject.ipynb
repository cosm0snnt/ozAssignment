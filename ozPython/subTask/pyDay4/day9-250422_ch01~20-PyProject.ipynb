{
 "cells": [
  {
   "cell_type": "markdown",
   "metadata": {
    "id": "aLkxKxnFLowa"
   },
   "source": [
    "안녕하세요. 수강생 여러분~! Chapter17 ~ 20 수업은 잘 들으셨나요?\n",
    "\n",
    "Chapter01 ~ 20의 수업 내용을 바탕으로 아래 문제를 풀어주시면 됩니다.\n",
    "\n",
    "저번에 했던 \"붕어빵 자동 판매 시스템\"을 리팩토링 해봅시다 !!!\n",
    "\n",
    "못해도 괜찮아요 ! 같이 해봅시다 !\n",
    "\n",
    "<br>\n",
    "\n",
    "\n",
    "[**답변 입력 방법**]\n",
    "\n",
    "문제 아래에 있는 코드 입력창에 정답코드를 작성하신 후  __▷ 버튼을 클릭해 코드를 실행__ 해보세요<br>"
   ]
  },
  {
   "cell_type": "markdown",
   "metadata": {},
   "source": [
    "### 리팩토링 과제\n",
    "\n",
    "Day4에서 만든 \"붕어빵 자동 판매 시스템\"은 절차적 코드로 구현되어있습니다.\n",
    "<br>\n",
    "\n",
    "Day5에서 배운 함수, 클래스 개념을 적용시켜 객체지향적으로 리팩토링을 진행해주세요\n"
   ]
  },
  {
   "cell_type": "code",
   "execution_count": null,
   "metadata": {},
   "outputs": [],
   "source": [
    "# 리팩토링 과제 힌트\n",
    "# 구조는 아래와 같습니다.\n",
    "class breadShop:\n",
    "    def __init__(self):\n",
    "\n",
    "    def checkStock(self):\n",
    "\n",
    "    def procOrder(self, breadType, breadCount):\n",
    "\n",
    "    def adminMode(self):\n",
    "\n",
    "    def calTotalSales(self):\n",
    "\n",
    "def main():\n",
    "\n",
    "if __name__ == \"__main__\":\n",
    "    main()\n"
   ]
  },
  {
   "cell_type": "markdown",
   "metadata": {},
   "source": [
    "__BungeoppangShop 클래스__\n",
    "\n",
    "- ``__init__()``: 초기 재고, 가격, 판매량을 설정합니다.\n",
    "- check_stock(): 현재 재고를 출력합니다.\n",
    "- process_order(): 주문을 처리하고 재고를 업데이트합니다.\n",
    "- admin_mode(): 관리자 모드에서 재고를 추가합니다.\n",
    "- calculate_total_sales(): 총 매출을 계산하고 출력합니다."
   ]
  },
  {
   "cell_type": "markdown",
   "metadata": {},
   "source": [
    "__[과제 1: 초기화 메소드 __init__]__\n",
    "\n",
    "목표: __init__ 메소드를 구현하여 붕어빵 가게의 초기 재고, 가격, 판매량을 설정합니다.\n",
    "\n",
    "설명: self.stock, self.prices, self.sales 딕셔너리를 초기화하세요.\n",
    "- stock \n",
    "    - \"팥붕어빵\": 10\n",
    "    - \"슈크림붕어빵\": 8\n",
    "    - \"초코붕어빵\": 5\n",
    "\n",
    "- prices\n",
    "    - \"팥붕어빵\": 1000\n",
    "    - \"슈크림붕어빵\": 1200\n",
    "    - \"초코붕어빵\": 1500\n",
    "\n",
    "- sales\n",
    "    - \"팥붕어빵\": 0,\n",
    "    - \"슈크림붕어빵\": 0,\n",
    "    - \"초코붕어빵\": 0"
   ]
  },
  {
   "cell_type": "code",
   "execution_count": null,
   "metadata": {},
   "outputs": [],
   "source": [
    "def __init__(self): # 가장 첫 생성자\n",
    "    self.stock = {\"팥붕어빵\": 10, \"슈크림붕어빵\": 8, \"초코붕어빵\": 5}\n",
    "    self.prices = {\"팥붕어빵\": 1000, \"슈크림붕어빵\": 1200, \"초코붕어빵\": 1500}\n",
    "    self.sales = {\"팥붕어빵\": 0, \"슈크림붕어빵\": 0, \"초코붕어빵\": 0}"
   ]
  },
  {
   "cell_type": "markdown",
   "metadata": {},
   "source": [
    "__[과제 2: 재고 확인 메소드 check_stock]__\n",
    "\n",
    "목표: check_stock 함수를 구현하여 현재 붕어빵 재고를 출력합니다.\n",
    "\n",
    "설명: self.stock 딕셔너리를 순회하며 각 붕어빵의 종류와 재고를 출력하세요.\n"
   ]
  },
  {
   "cell_type": "code",
   "execution_count": 7,
   "metadata": {},
   "outputs": [],
   "source": [
    "def checkStock(self):\n",
    "    print(\"현재 붕어빵 재고 - \")\n",
    "    for bread, amount in self.stock.items():\n",
    "        print(f\"{bread}: {amount}개\")"
   ]
  },
  {
   "cell_type": "markdown",
   "metadata": {},
   "source": [
    "__[과제 3: 주문 처리 메소드 process_order]__\n",
    "\n",
    "목표: process_order 함수를 구현하여 손님의 주문을 처리하고 재고를 업데이트합니다.\n",
    "\n",
    "설명: bread_type과 bread_count를 매개변수로 받아, 재고를 확인하고 충분한 경우 재고를 감소시키고 판매량을 증가시킵니다. 재고가 부족하거나 잘못된 붕어빵 종류인 경우 적절한 메시지를 출력하세요."
   ]
  },
  {
   "cell_type": "code",
   "execution_count": null,
   "metadata": {},
   "outputs": [],
   "source": [
    "def procOrder(self, breadType, breadCount):\n",
    "    try:\n",
    "        if self.stock[breadType] >= breadCount:\n",
    "            self.stock[breadType] -= breadCount\n",
    "            self.sales[breadType] += breadCount\n",
    "            print(f\"{breadType}을 {breadCount}개 판매했습니다!\")\n",
    "        \n",
    "        else:\n",
    "            print(f\"죄송합니다. {breadType}의 재고가 부족합니다. 관리자에게 문의해 주세요.\")\n",
    "            \n",
    "    except KeyError:\n",
    "        print(\"존재하지 않는 붕어빵입니다.\")"
   ]
  },
  {
   "cell_type": "markdown",
   "metadata": {},
   "source": [
    "__[과제 4: 관리자 모드 메소드 admin_mode]__\n",
    "\n",
    "목표: admin_mode 메소드를 구현하여 관리자 모드에서 재고를 추가할 수 있도록 합니다.\n",
    "\n",
    "설명: bread_type과 additional_stock을 입력받아 재고를 추가합니다. 잘못된 입력 값이 들어온 경우 적절한 메시지를 출력하세요."
   ]
  },
  {
   "cell_type": "code",
   "execution_count": 9,
   "metadata": {},
   "outputs": [],
   "source": [
    "def adminMode(self):\n",
    "    while True:\n",
    "        breadType = input(\"추가할 붕어빵의 종류를 입력하세요(팥붕어빵, 슈크림붕어빵, 초코붕어빵). 끝내고 싶다면 '종료'를 입력하세요.\")\n",
    "        \n",
    "        if breadType == \"종료\":\n",
    "            break\n",
    "\n",
    "        try:\n",
    "            addStock = int(input(f\"{breadType}을 얼마나 추가할까요? (숫자만)\"))\n",
    "            self.stock[breadType] += addStock\n",
    "            print(f\"{breadType}의 재고가 {addStock}개 늘었습니다.\")\n",
    "            self.checkStock()\n",
    "\n",
    "        # 개수 문제\n",
    "        except ValueError:\n",
    "            print(\"숫자만 입력해 주세요.\")\n",
    "        \n",
    "        # 붕어빵 종류 문제\n",
    "        except KeyError:\n",
    "            print(\"존재하지 않는 붕어빵입니다.\")"
   ]
  },
  {
   "cell_type": "markdown",
   "metadata": {},
   "source": [
    "\n",
    "__[과제 5: 매출 계산 메소드 calculate_total_sales]__\n",
    "\n",
    "목표: calculate_total_sales 메소드를 구현하여 총 매출을 계산하고 출력합니다.\n",
    "\n",
    "설명: self.sales와 self.prices를 사용하여 총 매출을 계산하고 출력하세요."
   ]
  },
  {
   "cell_type": "code",
   "execution_count": null,
   "metadata": {},
   "outputs": [],
   "source": [
    "# for <key> in <dict>\n",
    "# stock[<key>] -> <value>\n",
    "\n",
    "def calTotalSales(self):\n",
    "    totalSales = sum(self.sales[breadType] * self.prices[breadType] for breadType in self.sales)\n",
    "    print(f\"● 총 매출: {totalSales}원\")\n",
    "    print(f\"● 판매 내역: \")\n",
    "    for breadType in self.sales:\n",
    "        print(f\"{self.sales[breadType]}을 판매했습니다. 총 매출은 {totalSales}원입니다.\")\n",
    "\n",
    "    # Or this ▼\n",
    "    # totalSales = 0\n",
    "    # for bread in self.sales:\n",
    "    #     totalSales += self.sales[bread] * self.prices[bread]"
   ]
  },
  {
   "cell_type": "markdown",
   "metadata": {},
   "source": [
    "__[과제 6: 메인 함수 main]__\n",
    "\n",
    "목표: main 함수를 작성하여 프로그램의 주요 로직을 실행합니다.\n",
    "\n",
    "설명:\n",
    "- BungeoppangShop 객체를 생성합니다.\n",
    "- 사용자에게 모드를 선택하도록 요청합니다.\n",
    "- \"주문\" 모드에서는 손님의 주문을 처리하고, \"관리자\" 모드에서는 재고를 추가할 수 있습니다.\n",
    "- 프로그램이 종료될 때 총 매출을 계산하고 데이터를 저장합니다.\n"
   ]
  },
  {
   "cell_type": "code",
   "execution_count": null,
   "metadata": {},
   "outputs": [],
   "source": [
    "def main():\n",
    "    shop = breadShop()\n",
    "\n",
    "    while True:\n",
    "        mode = input(\"원하는 모드를 선택하세요(주문, 관리자, 종료).\")\n",
    "\n",
    "        if mode == \"종료\":\n",
    "            break\n",
    "        \n",
    "        if mode == \"관리자\":\n",
    "            adminMode()\n",
    "\n",
    "        if mode == \"주문\":\n",
    "            breadType = str(input(\"원하시는 붕어빵의 종류를 입력해 주세요(팥붕어빵, 슈크림붕어빵, 초코붕어빵). 주문을 그만하고 돌아가고 싶으시다면 '종료'을 입력해 주세요.\"))\n",
    "            \n",
    "            if breadType == \"종료\":\n",
    "                break\n",
    "                \n",
    "            try:   \n",
    "                breadCount = int(input(\"원하시는 붕어빵의 개수를 입력해 주세요(숫자만).\"))\n",
    "                shop.procOrder(breadType, breadCount)\n",
    "\n",
    "            except:\n",
    "                print(\"오류 발생. 관리자에게 문의하여 주십시오.\")\n",
    "\n",
    "            shop.checkStock()\n",
    "        \n",
    "        shop.calTotalSales()\n"
   ]
  },
  {
   "cell_type": "markdown",
   "metadata": {},
   "source": [
    "__[과제 7: 최종 BungeoppangShop 클래스]__\n",
    "\n",
    "함수로 리팩토링한 \"붕어빵 자동 판매 시스템\" 작성 후 실행합니다. "
   ]
  },
  {
   "cell_type": "code",
   "execution_count": null,
   "metadata": {},
   "outputs": [
    {
     "name": "stdout",
     "output_type": "stream",
     "text": [
      "● 총 매출: 0원\n",
      "● 판매 내역: \n",
      "0을 판매했습니다. 총 매출은 0원입니다.\n",
      "0을 판매했습니다. 총 매출은 0원입니다.\n",
      "0을 판매했습니다. 총 매출은 0원입니다.\n",
      "팥붕어빵을 3개 판매했습니다!\n",
      "현재 붕어빵 재고 - \n",
      "팥붕어빵: 7개\n",
      "슈크림붕어빵: 8개\n",
      "초코붕어빵: 5개\n",
      "● 총 매출: 3000원\n",
      "● 판매 내역: \n",
      "3을 판매했습니다. 총 매출은 3000원입니다.\n",
      "0을 판매했습니다. 총 매출은 3000원입니다.\n",
      "0을 판매했습니다. 총 매출은 3000원입니다.\n",
      "안녕히 가십시오.\n"
     ]
    }
   ],
   "source": [
    "class breadShop:\n",
    "\n",
    "     # 가장 첫 생성자\n",
    "    def __init__(self):\n",
    "        self.stock = {\"팥붕어빵\": 10, \"슈크림붕어빵\": 8, \"초코붕어빵\": 5}\n",
    "        self.prices = {\"팥붕어빵\": 1000, \"슈크림붕어빵\": 1200, \"초코붕어빵\": 1500}\n",
    "        self.sales = {\"팥붕어빵\": 0, \"슈크림붕어빵\": 0, \"초코붕어빵\": 0}\n",
    "\n",
    "    # 재고 확인\n",
    "    def checkStock(self):\n",
    "        print(\"현재 붕어빵 재고 - \")\n",
    "        for bread, amount in self.stock.items():\n",
    "            print(f\"{bread}: {amount}개\")\n",
    "\n",
    "    # 손님 모드 - 주문 절차\n",
    "    def procOrder(self, breadType, breadCount):\n",
    "        try:\n",
    "            if self.stock[breadType] >= breadCount:\n",
    "                self.stock[breadType] -= breadCount\n",
    "                self.sales[breadType] += breadCount\n",
    "                print(f\"{breadType}을 {breadCount}개 판매했습니다!\")\n",
    "            \n",
    "            else:\n",
    "                print(f\"죄송합니다. {breadType}의 재고가 부족합니다. 관리자에게 문의해 주세요.\")\n",
    "\n",
    "        # 붕어빵 종류 문제\n",
    "        except KeyError:\n",
    "            print(\"존재하지 않는 붕어빵입니다.\")\n",
    "\n",
    "    # 관리자 모드\n",
    "    def adminMode(self):\n",
    "        while True:\n",
    "            breadType = input(\"추가할 붕어빵의 종류를 입력하세요(팥붕어빵, 슈크림붕어빵, 초코붕어빵). 끝내고 싶다면 '종료'를 입력하세요.\")\n",
    "            \n",
    "            if breadType == \"종료\":\n",
    "                break\n",
    "\n",
    "            try:\n",
    "                addStock = int(input(f\"{breadType}을 얼마나 추가할까요? (숫자만)\"))\n",
    "                self.stock[breadType] += addStock\n",
    "                print(f\"{breadType}의 재고가 {addStock}개 늘었습니다.\")\n",
    "                self.checkStock()\n",
    "\n",
    "            # 개수 문제\n",
    "            except ValueError:\n",
    "                print(\"숫자만 입력해 주세요.\")\n",
    "            \n",
    "            # 붕어빵 종류 문제\n",
    "            except KeyError:\n",
    "                print(\"존재하지 않는 붕어빵입니다.\")\n",
    "\n",
    "    # 매출 관리\n",
    "    def calTotalSales(self):\n",
    "        totalSales = sum(self.sales[breadType] * self.prices[breadType] \n",
    "        \n",
    "        for breadType in self.sales)\n",
    "        print(f\"● 총 매출: {totalSales}원\")\n",
    "        print(f\"● 판매 내역: \")\n",
    "\n",
    "        for breadType in self.sales:\n",
    "            print(f\"{self.sales[breadType]}을 판매했습니다. 총 매출은 {totalSales}원입니다.\")\n",
    "\n",
    "# 메인\n",
    "def main():\n",
    "    shop = breadShop()\n",
    "\n",
    "    while True:\n",
    "        mode = input(\"원하는 모드를 선택하세요(주문, 관리자, 종료).\")\n",
    "\n",
    "        if mode == \"종료\":\n",
    "            print(\"안녕히 가십시오.\")\n",
    "            break\n",
    "        \n",
    "        if mode == \"관리자\":\n",
    "            adminMode()\n",
    "\n",
    "        if mode == \"주문\":\n",
    "            breadType = str(input(\"원하시는 붕어빵의 종류를 입력해 주세요(팥붕어빵, 슈크림붕어빵, 초코붕어빵). 주문을 그만하고 돌아가고 싶으시다면 '종료'을 입력해 주세요.\"))\n",
    "            \n",
    "            if breadType == \"종료\":\n",
    "                break\n",
    "                \n",
    "            try:   \n",
    "                breadCount = int(input(\"원하시는 붕어빵의 개수를 입력해 주세요(숫자만).\"))\n",
    "                shop.procOrder(breadType, breadCount)\n",
    "\n",
    "            except:\n",
    "                print(\"오류 발생. 관리자에게 문의하여 주십시오.\")\n",
    "\n",
    "            shop.checkStock()\n",
    "        \n",
    "        shop.calTotalSales()\n",
    "\n",
    "if __name__ == \"__main__\":\n",
    "    main()\n",
    "\n",
    "# 판매 내역이 이상하게 나오는 이유를 모르겠는데..."
   ]
  }
 ],
 "metadata": {
  "colab": {
   "authorship_tag": "ABX9TyMfxSNOybrh/E7+DQqfYMY3",
   "provenance": []
  },
  "kernelspec": {
   "display_name": "Python 3",
   "name": "python3"
  },
  "language_info": {
   "codemirror_mode": {
    "name": "ipython",
    "version": 3
   },
   "file_extension": ".py",
   "mimetype": "text/x-python",
   "name": "python",
   "nbconvert_exporter": "python",
   "pygments_lexer": "ipython3",
   "version": "3.13.3"
  }
 },
 "nbformat": 4,
 "nbformat_minor": 0
}
