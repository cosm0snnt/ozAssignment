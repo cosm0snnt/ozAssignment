{
 "cells": [
  {
   "cell_type": "markdown",
   "metadata": {},
   "source": [
    "<span style=\"font-size:100%\">\n",
    "\n",
    "수업은 모두 열심히 들으셨나요?\n",
    "\n",
    "간혹 강의에서 언급되지 않은 내용이 문제로 나올 수 있습니다.<br>\n",
    "그럴땐 강의 내용 외 문제는 구글링을 통해 해결해주세요<br></span>\n",
    "<span style=\"font-size:80%\">\n",
    "(구글링 또한 개발자가 갖추어야 할 역량 중에 하나랍니다 😊)\n",
    "</span>\n",
    "\n",
    "---"
   ]
  },
  {
   "cell_type": "markdown",
   "metadata": {},
   "source": [
    "<span style=\"font-size:80%\">[문제1]<br><br></span>\n",
    "```인터프리트 방식에 대해 설명하고 2개 이상의 장점을 설명해주세요```"
   ]
  },
  {
   "cell_type": "markdown",
   "metadata": {},
   "source": [
    "<span style=\"color:red\">답변</span>"
   ]
  },
  {
   "cell_type": "markdown",
   "metadata": {},
   "source": [
    "코드를 한 줄씩 읽어 나가며 해당 라인을 바로 실행하는 방식이나, 컴파일 방식보다 상대적으로 느리다.\n",
    "1) 디버깅이 쉽다. 읽은 라인을 바로 실행하므로 오류가 발생한 위치를 바로 찾을 수 있다.\n",
    "2) 플랫폼에 구애받지 않는다. 어디서든 실행할 수 있으므로 SW 이식성이 높다."
   ]
  },
  {
   "cell_type": "markdown",
   "metadata": {},
   "source": [
    "---"
   ]
  },
  {
   "cell_type": "markdown",
   "metadata": {},
   "source": [
    "<span style=\"font-size:80%\">[문제2]<br><br></span>\n",
    "```동적 타입 방식의 장점과 단점을 간략히 설명해주세요```"
   ]
  },
  {
   "cell_type": "markdown",
   "metadata": {},
   "source": [
    "<span style=\"color:red\">답변</span>"
   ]
  },
  {
   "cell_type": "markdown",
   "metadata": {},
   "source": [
    "동적 타입은 변수 선언 시 타입을 정하는 게 아닌, 프로그램이 실행되는 타이밍에 타입이 지정되는 방식을 말한다.\n",
    "\n",
    "장점: 변수 타입을 미리 정하지 않아도 되므로 상황에 발맞추기 편하며, 타입 지정 시 소요되는 시간을 줄일 수 있다.\n",
    "\n",
    "단점: 예상치 못한 오류가 발견될 수 있고 그에 따른 디버깅이 어려우며, 타입에 따른 최적화가 힘들다."
   ]
  },
  {
   "cell_type": "markdown",
   "metadata": {},
   "source": [
    "---"
   ]
  },
  {
   "cell_type": "markdown",
   "metadata": {},
   "source": [
    "<span style=\"font-size:80%\">[문제3]<br><br></span>\n",
    "```Python으로 정적 타입 방식의 코드를 작성할 수 있는 방법을 구글링을 통해 검색 후 설명해주세요```"
   ]
  },
  {
   "cell_type": "markdown",
   "metadata": {},
   "source": [
    "<span style=\"color:red\">답변</span>"
   ]
  },
  {
   "cell_type": "markdown",
   "metadata": {},
   "source": [
    "타입 힌트(Type Hint). 잘못된 타입을 사용하면 경고 표시가 뜨는 등의 기능을 활용할 수 있다. 정적 코드 분석 도구(mypy) 등을 통하여 버그를 발견하기 쉬워진다. 내장 모듈 typing이 있다."
   ]
  },
  {
   "cell_type": "markdown",
   "metadata": {},
   "source": [
    "---"
   ]
  },
  {
   "cell_type": "markdown",
   "metadata": {},
   "source": [
    "<span style=\"font-size:80%\">[문제4]<br><br></span>\n",
    "```프로세스와 스레드의 차이점을 설명해주세요```"
   ]
  },
  {
   "cell_type": "markdown",
   "metadata": {},
   "source": [
    "<span style=\"color:red\">답변</span>"
   ]
  },
  {
   "cell_type": "markdown",
   "metadata": {},
   "source": [
    "프로세스: 프로그램을 실행한 것. 동적인 상태. 실행 중인 컴퓨터 프로그램. 독립적이다. 메모리를 공유하지 않는다. 한 프로세스가 중단된다고 해서 다른 프로세스에 영향이 가지 않는다.\n",
    "\n",
    "스레드: 프로세스보다 더 작은 단위. 프로세스 내에 있는 코드에 정의된 절차에 따라 실행되는 특정한 수행 경로. 메모리를 공유하므로 한 스레드가 중단되면 다른 스레드도 전부 강제로 종료된다."
   ]
  },
  {
   "cell_type": "markdown",
   "metadata": {},
   "source": [
    "---"
   ]
  },
  {
   "cell_type": "markdown",
   "metadata": {},
   "source": [
    "<span style=\"font-size:80%\">[문제5]<br><br></span>\n",
    "```Python 2버전대와 3버전대의 차이를 설명해주세요```"
   ]
  },
  {
   "cell_type": "markdown",
   "metadata": {},
   "source": [
    "<span style=\"color:red\">답변</span>"
   ]
  },
  {
   "cell_type": "markdown",
   "metadata": {},
   "source": [
    "Python2: ASCII 문자열을 사용. 괄호를 사용하지 않았다. 정수를 나누었다면 무조건 정수로 나온다(실수가 되면 반올림한다). 현재(25년) 지원 종료.\n",
    "\n",
    "Python3: Unicode 문자열을 사용. 괄호를 사용한다. 정수를 나누었어도 실수로 나올 수 있다. 현재(25년)도 지원 중."
   ]
  },
  {
   "cell_type": "markdown",
   "metadata": {},
   "source": [
    "---"
   ]
  },
  {
   "cell_type": "markdown",
   "metadata": {},
   "source": [
    "<span style=\"font-size:80%\">[문제6]<br><br></span>\n",
    "```Python에서 메모리 관리는 어떻게 이루어지는지 설명해주세요```"
   ]
  },
  {
   "cell_type": "markdown",
   "metadata": {},
   "source": [
    "<span style=\"color:red\">답변</span>"
   ]
  },
  {
   "cell_type": "markdown",
   "metadata": {},
   "source": [
    "Python은 메모리를 참조 계수(Reference Counting) 기반으로 스스로 관리한다. 이는 객체가 생성될 때마다 그 객체를 참조하는 변수의 개수를 추적하는 방식인데, 객체를 참조하는 변수의 개수가 0이 되면 해당 객체의 메모리는 자동으로 해제된다.\n",
    "\n",
    "그러나 이는 순환 참조 같은 상황에서는 메모리 누수가 발생할 수 있으므로(순환 참조는 객체가 서로를 참조하기 때문에, 객체가 더 사용되지 않더라도 참조 계수가 0이 되지 않음), 이때는 동적 할당받은 메모리 영역 중 더 사용하지 않는 메모리 영역을 자동으로 찾아서 해제하는 가비지 컬렉션(Garbage Collection) 기능을 사용한다. "
   ]
  }
 ],
 "metadata": {
  "language_info": {
   "name": "python"
  }
 },
 "nbformat": 4,
 "nbformat_minor": 2
}
