{
 "cells": [
  {
   "cell_type": "markdown",
   "metadata": {
    "id": "WXEwMsfUct7U"
   },
   "source": [
    "컴퓨터 기초 지식을 의미하는 CS(Computer science)는<br>\n",
    "코딩 테스트와 함께 기술 면접에서 지원자에게 필수적으로 요구합니다.<br>\n",
    "\n",
    "수업 내용 중 기술 면접에 자주 나오는 질문 3가지와 기본적으로 알아야 할 내용 과제로 선정했습니다.<br>\n",
    "\n",
    "관련 내용에 대해서는 구글링 또는 관련 서적을 통해 상세히 공부하시고<br>\n",
    "답변은 최대한 핵심만 담아 간결하게 작성해주세요<br>\n",
    "\n",
    "기술 블로그를 운영 중이신 경우<br>\n",
    "답변 내용을 기술 블로그에 작성하신 후 링크를 답변에 남겨주셔도 됩니다.<br>"
   ]
  },
  {
   "cell_type": "markdown",
   "metadata": {
    "id": "qoyC9wF-3hvs"
   },
   "source": [
    "-----"
   ]
  },
  {
   "cell_type": "markdown",
   "metadata": {
    "id": "rAD_O3Gmc_43"
   },
   "source": [
    "[문제1]\n",
    "\n",
    "파이썬 2.7 버전과 파이썬 3에서 range 차이를 설명해주세요"
   ]
  },
  {
   "cell_type": "markdown",
   "metadata": {},
   "source": [
    "- 2.7: 실제로 리스트를 생성한다. <br>\n",
    "- 3.0: 이터레이터를 반환한다. 반복문에서 사용하며, 필요할 때만 생성하므로 메모리를 더욱 효율적으로 사용할 수 있다."
   ]
  },
  {
   "cell_type": "markdown",
   "metadata": {},
   "source": [
    "---"
   ]
  },
  {
   "cell_type": "markdown",
   "metadata": {
    "id": "3uK_auXYdgk2"
   },
   "source": [
    "[문제2]\n",
    "\n",
    "Python의 얕은 복사와 깊은 복사에 대해서 설명하세요"
   ]
  },
  {
   "cell_type": "markdown",
   "metadata": {
    "id": "9kvBxa6PdhgA"
   },
   "source": [
    "- 얕은 복사: 원본 객체의 최상위 레벨만 복사한다. 새로운 리스트를 만들지만, 만들어진 리스트의 요소는 원본 리스트와 동일한 객체를 참조한다. (심볼릭 링크와도 비슷한 면이 없잖아 있다.) <br>\n",
    "- 깊은 복사: 원본 객체의 모든 레벨을 재귀적으로 복사한다. 원본 객체와 완전히 분리된 새로운 복사본을 만든다(내부 객체까지 모두 복사한다)."
   ]
  }
 ],
 "metadata": {
  "colab": {
   "authorship_tag": "ABX9TyP7YKA5FdtGggYfD74V7SMJ",
   "provenance": []
  },
  "kernelspec": {
   "display_name": "Python 3",
   "name": "python3"
  },
  "language_info": {
   "name": "python"
  }
 },
 "nbformat": 4,
 "nbformat_minor": 0
}
