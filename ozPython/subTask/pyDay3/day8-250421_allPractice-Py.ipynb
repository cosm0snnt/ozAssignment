{
 "cells": [
  {
   "cell_type": "markdown",
   "metadata": {
    "id": "BX7SgOeWu86I"
   },
   "source": [
    "안녕하세요. 수강생 여러분~! \n",
    "\n",
    "다시 돌아온 조금 더 성장할 기 ! 회 ! \n",
    "\n",
    "Chapter01 ~ 16의 수업 내용을 바탕으로 아래 문제를 풀어주시면 됩니다 !\n",
    "\n",
    "지금까지 잘 해오셨으니까, 총 복습한다고 생각하시고 한번 도전해보세요 !!!\n",
    "\n",
    "차근 차근 문제와 요구사항을 읽고 작성해보세요.\n",
    "\n",
    "<br>\n",
    "\n",
    "\n",
    "[**답변 입력 방법**]\n",
    "\n",
    "문제 아래에 있는 코드 입력창에 정답코드를 작성하신 후  __▷ 버튼을 클릭해 코드를 실행__ 해보세요<br>"
   ]
  },
  {
   "cell_type": "markdown",
   "metadata": {},
   "source": [
    "---"
   ]
  },
  {
   "cell_type": "markdown",
   "metadata": {},
   "source": [
    "#### 프로젝트: 붕어빵 자동 판매 시스템\n",
    "\n",
    "\n",
    "당신은 붕어빵 가게의 주인입니다. \n",
    "\n",
    "손님들이 붕어빵을 주문하면 이를 자동으로 처리하고, 재고를 관리하는 시스템을 만들고자 합니다. \n",
    "\n",
    "또한, 관리자 모드를 통해 재고를 추가할 수 있는 기능을 구현해야 합니다.\n"
   ]
  },
  {
   "cell_type": "markdown",
   "metadata": {},
   "source": [
    "__[문제 1: 붕어빵 재고 확인]__\n",
    "\n",
    "붕어빵 가게의 현재 재고를 확인하는 기능을 구현하세요.\n",
    "\n",
    "요구사항:\n",
    "- 현재 붕어빵의 재고를 딕셔너리로 관리합니다.\n",
    "- 딕셔너리에는 붕어빵의 종류와 각각의 재고 개수가 저장됩니다.\n",
    "- 현재 재고를 화면에 출력하세요.\n",
    "\n",
    "붕어빵 재고\n",
    "- 팥붕어빵 : 10개\n",
    "- 슈크림붕어빵 : 8개\n",
    "- 초코붕어빵 : 5개"
   ]
  },
  {
   "cell_type": "code",
   "execution_count": 18,
   "metadata": {},
   "outputs": [
    {
     "name": "stdout",
     "output_type": "stream",
     "text": [
      "{'팥붕어빵': 10, '슈크림붕어빵': 8, '초코붕어빵': 5}\n"
     ]
    }
   ],
   "source": [
    "breadStock = {\"팥붕어빵\": 10, \"슈크림붕어빵\": 8, \"초코붕어빵\": 5}\n",
    "print(breadStock)"
   ]
  },
  {
   "cell_type": "markdown",
   "metadata": {},
   "source": [
    "__[문제 2: 붕어빵 주문 받기]__\n",
    "\n",
    "손님이 주문한 붕어빵의 종류와 개수를 입력받는 기능을 구현하세요.\n",
    "\n",
    "요구사항:\n",
    "- 손님이 주문할 붕어빵의 종류와 개수를 입력받습니다.\n",
    "- 주문 내용을 딕셔너리에 저장하세요.\n",
    "- 주문 내역을 출력해주세요."
   ]
  },
  {
   "cell_type": "code",
   "execution_count": 19,
   "metadata": {},
   "outputs": [
    {
     "name": "stdout",
     "output_type": "stream",
     "text": [
      "최종 주문 내역:  {'슈크림붕어빵': 10}\n"
     ]
    }
   ],
   "source": [
    "breadType = input(\"주문하실 붕어빵의 종류를 입력해 주세요(팥붕어빵, 슈크림붕어빵, 초코붕어빵): \")\n",
    "breadCount = int(input(\"주문하실 붕어빵의 개수를 입력해 주세요(숫자만): \"))\n",
    "\n",
    "totalOrder = {}\n",
    "\n",
    "totalOrder[breadType] = breadCount\n",
    "print(f\"최종 주문 내역: \", totalOrder)"
   ]
  },
  {
   "cell_type": "markdown",
   "metadata": {},
   "source": [
    "__[문제 3: 붕어빵 주문 처리]__\n",
    "\n",
    "손님의 주문을 처리하여 붕어빵 재고를 업데이트하는 기능을 구현하세요.\n",
    "\n",
    "요구사항:\n",
    "- 손님의 주문 내용을 기반으로 재고를 업데이트합니다.\n",
    "- 재고가 부족할 경우, 손님에게 재고 부족을 알리고 재고를 감소시키지 않습니다.\n",
    "- 재고가 충분할 경우, 주문한 만큼 재고를 감소시키고 판매를 완료합니다.\n",
    "- 판매가 완료된 경우 판매된 붕어빵 맛과 개수를 출력하세요."
   ]
  },
  {
   "cell_type": "code",
   "execution_count": 6,
   "metadata": {},
   "outputs": [
    {
     "name": "stdout",
     "output_type": "stream",
     "text": [
      "팥붕어빵을 3개 판매하였습니다!\n"
     ]
    }
   ],
   "source": [
    "if breadStock[breadType] >= breadCount:\n",
    "    breadStock[breadType] -= breadCount\n",
    "    print(f\"{breadType}을 {breadCount}개 판매하였습니다!\")\n",
    "else:\n",
    "    print(f\"죄송합니다! 현재 {breadType}의 재고가 부족합니다.\")"
   ]
  },
  {
   "cell_type": "markdown",
   "metadata": {},
   "source": [
    "__[문제 4: 여러 손님 주문 처리]__\n",
    "\n",
    "여러 손님들의 주문을 처리할 수 있도록 시스템을 확장하세요.\n",
    "\n",
    "요구사항:\n",
    "- 손님이 \"종료\"를 입력할 때까지 주문을 계속 받습니다.\n",
    "- 각 주문마다 재고를 업데이트합니다.\n",
    "- 현재 재고를 화면에 출력합니다."
   ]
  },
  {
   "cell_type": "code",
   "execution_count": 8,
   "metadata": {},
   "outputs": [
    {
     "name": "stdout",
     "output_type": "stream",
     "text": [
      "죄송합니다! 현재 슈크림붕어빵의 재고가 부족합니다.\n",
      "안녕히 가세요!\n"
     ]
    }
   ],
   "source": [
    "while True:\n",
    "    breadType = input(\"주문하실 붕어빵의 종류를 입력해 주세요(팥붕어빵, 슈크림붕어빵, 초코붕어빵). 나가고 싶으시다면 '종료'를 입력해 주세요: \")\n",
    "    if breadType == \"종료\":\n",
    "        print(\"안녕히 가세요!\")\n",
    "        break\n",
    "    else:\n",
    "        breadCount = int(input(\"주문하실 붕어빵의 개수를 입력해 주세요(숫자만): \"))\n",
    "\n",
    "        if breadStock[breadType] >= breadCount:\n",
    "            breadStock[breadType] -= breadCount\n",
    "            print(f\"{breadType}을 {breadCount}개 판매하였습니다!\")\n",
    "        else:\n",
    "            print(f\"죄송합니다! 현재 {breadType}의 재고가 부족합니다.\")"
   ]
  },
  {
   "cell_type": "markdown",
   "metadata": {},
   "source": [
    "__[문제 5: 관리자 모드]__\n",
    "\n",
    "관리자 모드를 통해 붕어빵 재고를 추가할 수 있는 기능을 구현하세요.\n",
    "\n",
    "요구사항:\n",
    "- 관리자는 특정 붕어빵의 재고를 추가할 수 있습니다.\n",
    "- \"종료\"를 입력하면 관리자 모드를 종료합니다.\n",
    "- 추가된 재고를 업데이트하고 현재 재고를 화면에 출력합니다."
   ]
  },
  {
   "cell_type": "code",
   "execution_count": 17,
   "metadata": {},
   "outputs": [
    {
     "name": "stdout",
     "output_type": "stream",
     "text": [
      "현재 재고: 팥붕어빵/1개\n",
      "최종 재고: 팥붕어빵/28개\n",
      "최종 재고: 슈크림붕어빵/11개\n",
      "최종 재고: 초코붕어빵/13개\n",
      "재고 정리 완료. 관리자 모드를 종료합니다.\n"
     ]
    }
   ],
   "source": [
    "while True:\n",
    "    breadType = input(\"재고 - 붕어빵 종류(팥붕어빵, 슈크림붕어빵, 초코붕어빵) 채우기(종료를 원할 시 '종료' 입력): \")\n",
    "    if breadType == \"종료\":\n",
    "        print(\"재고 정리 완료. 관리자 모드를 종료합니다.\")\n",
    "        break\n",
    "    else:\n",
    "        addStock = int(input(f\"재고 - {breadType} 개수 채우기(숫자만): \"))\n",
    "        breadStock[breadType] += addStock\n",
    "\n",
    "        print(f\"현재 재고: {breadType}/{addStock}개\")\n",
    "        for breadType, finalCount in breadStock.items():\n",
    "            print(f\"최종 재고: {breadType}/{finalCount}개\")"
   ]
  },
  {
   "cell_type": "markdown",
   "metadata": {},
   "source": [
    "__[문제 6: 매출 확인]__\n",
    "\n",
    "붕어빵 판매 가격을 설정하고, 판매한 붕어빵의 매출을 계산하세요.\n",
    "\n",
    "요구사항:\n",
    "- 각 붕어빵의 가격을 딕셔너리로 관리합니다.\n",
    "- 판매된 붕어빵의 종류와 개수를 딕셔너리로 관리합니다.\n",
    "- 총 매출을 계산하여 출력합니다.\n",
    "\n",
    "초기 설정:\n",
    "- 가격\n",
    "    - \"팥붕어빵\": 1000\n",
    "    - \"슈크림붕어빵\": 1200\n",
    "    - \"초코붕어빵\": 1500\n",
    "\n",
    "- 판매 개수\n",
    "    - \"팥붕어빵\": 0\n",
    "    - \"슈크림붕어빵\": 0\n",
    "    - \"초코붕어빵\": 0"
   ]
  },
  {
   "cell_type": "code",
   "execution_count": null,
   "metadata": {},
   "outputs": [
    {
     "name": "stdout",
     "output_type": "stream",
     "text": [
      "총 매출: 0원\n"
     ]
    }
   ],
   "source": [
    "# 가격\n",
    "breadCost = {\"팥붕어빵\": 1000, \"슈크림붕어빵\": 1200, \"초코붕어빵\": 1500}\n",
    "# 판매 개수\n",
    "breadSell = {\"팥붕어빵\": 0, \"슈크림붕어빵\": 0, \"초코붕어빵\": 0}\n",
    "\n",
    "totalSell = sum(breadSell[bread] * breadCost[bread] for bread in breadSell)\n",
    "print(f\"총 매출: {totalSell}원\")"
   ]
  },
  {
   "cell_type": "code",
   "execution_count": null,
   "metadata": {},
   "outputs": [
    {
     "name": "stdout",
     "output_type": "stream",
     "text": [
      "오늘의 영업을 종료합니다.\n",
      "총 매출: 0원\n"
     ]
    }
   ],
   "source": [
    "# Final Code - Start\n",
    "\n",
    "breadStock = {\"팥붕어빵\": 10, \"슈크림붕어빵\": 8, \"초코붕어빵\": 5}\n",
    "breadCost = {\"팥붕어빵\": 1000, \"슈크림붕어빵\": 1200, \"초코붕어빵\": 1500}\n",
    "breadSell = {\"팥붕어빵\": 0, \"슈크림붕어빵\": 0, \"초코붕어빵\": 0}\n",
    "\n",
    "# Set mode\n",
    "mode = input(\"원하는 모드를 선택하세요(주문, 관리자, 종료): \")\n",
    "\n",
    "# Order: Customer\n",
    "if mode == \"주문\":\n",
    "    while True:\n",
    "        breadType = input(\"주문하실 붕어빵의 종류를 입력해 주세요(팥붕어빵, 슈크림붕어빵, 초코붕어빵). 주문을 끝내고 나가고 싶으시다면 '종료'를 입력해 주세요: \")\n",
    "        if breadType == \"종료\":\n",
    "            print(\"안녕히 가세요!\")\n",
    "            break\n",
    "        elif breadType not in breadStock:\n",
    "            print(\"죄송합니다! 해당 붕어빵은 판매하지 않습니다.\")\n",
    "            continue\n",
    "        else:\n",
    "            breadCount = int(input(\"주문하실 붕어빵의 개수를 입력해 주세요(숫자만): \"))\n",
    "\n",
    "            if breadStock[breadType] >= breadCount:\n",
    "                breadStock[breadType] -= breadCount\n",
    "                breadSell[breadType] += breadCount\n",
    "                print(f\"{breadType}을 {breadCount}개 판매하였습니다!\")\n",
    "                continue\n",
    "            else:\n",
    "                print(f\"죄송합니다! 현재 {breadType}의 재고가 부족합니다. 관리자에게 연락해 주세요.\")\n",
    "                continue\n",
    "\n",
    "# Admin\n",
    "elif mode == \"관리자\":\n",
    "    while True:\n",
    "        breadType = input(\"재고 - 붕어빵 종류(팥붕어빵, 슈크림붕어빵, 초코붕어빵) 채우기(종료를 원할 시 '종료' 입력): \")\n",
    "        if breadType == \"종료\":\n",
    "            print(\"재고 정리 완료. 관리자 모드를 종료합니다.\")\n",
    "            break\n",
    "        elif breadType not in breadStock:\n",
    "            print(\"해당 붕어빵은 없습니다!\")\n",
    "            continue\n",
    "        else:\n",
    "            addStock = int(input(f\"재고 - {breadType} 개수 채우기(숫자만): \"))\n",
    "            breadStock[breadType] += addStock\n",
    "            print(f\"현재 재고: {breadType}/{addStock}개\")\n",
    "            for breadType, finalCount in breadStock.items():\n",
    "                print(f\"최종 재고: {breadType}/{finalCount}개\")\n",
    "                continue\n",
    "\n",
    "# End\n",
    "elif mode == \"종료\":\n",
    "    print(\"오늘의 영업을 종료합니다.\")\n",
    "    totalSell = sum(breadSell[breadType] * breadCost[breadType] for breadType in breadSell)\n",
    "    print(f\"총 매출: {totalSell}원\")\n",
    "else:\n",
    "    print(\"없는 모드입니다. 종료합니다.\")\n",
    "\n",
    "# Final Code - End"
   ]
  }
 ],
 "metadata": {
  "colab": {
   "authorship_tag": "ABX9TyMLQjyUmELFyKkx1AyovOFZ",
   "provenance": []
  },
  "kernelspec": {
   "display_name": "Python 3",
   "name": "python3"
  },
  "language_info": {
   "codemirror_mode": {
    "name": "ipython",
    "version": 3
   },
   "file_extension": ".py",
   "mimetype": "text/x-python",
   "name": "python",
   "nbconvert_exporter": "python",
   "pygments_lexer": "ipython3",
   "version": "3.13.3"
  }
 },
 "nbformat": 4,
 "nbformat_minor": 0
}
